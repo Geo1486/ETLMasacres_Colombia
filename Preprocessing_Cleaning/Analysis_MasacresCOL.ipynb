{
 "cells": [
  {
   "cell_type": "code",
   "execution_count": 3,
   "id": "f22aa444",
   "metadata": {},
   "outputs": [],
   "source": [
    "# Pandas es una biblioteca de Python utilizada para trabajar con conjuntos de datos.\n",
    "# Tiene funciones de análisis, limpieza, exploración y manipulación de datos.\n",
    "import pandas as pd"
   ]
  },
  {
   "cell_type": "code",
   "execution_count": 4,
   "id": "1bb445f6",
   "metadata": {},
   "outputs": [],
   "source": [
    "# Cargar un archivo CSV en un DataFrame de Pandas\n",
    "df = pd.read_csv(\"Masacres_en_Colombia.csv\")"
   ]
  },
  {
   "cell_type": "code",
   "execution_count": 5,
   "id": "05210fb9",
   "metadata": {},
   "outputs": [
    {
     "data": {
      "text/plain": [
       "(301, 8)"
      ]
     },
     "execution_count": 5,
     "metadata": {},
     "output_type": "execute_result"
    }
   ],
   "source": [
    "# Devuelve el valor de N° de Filas y N° de Columnas\n",
    "df.shape"
   ]
  },
  {
   "cell_type": "code",
   "execution_count": 6,
   "id": "490d5398",
   "metadata": {},
   "outputs": [
    {
     "data": {
      "text/plain": [
       "<bound method DataFrame.info of                 FECHA HECHO  COD_DEPTO     DEPARTAMENTO  COD_MUNI  \\\n",
       "0    01/02/2022 12:00:00 AM         81           ARAUCA     81300   \n",
       "1    01/03/2022 12:00:00 AM         76  VALLE DEL CAUCA     76364   \n",
       "2    01/06/2022 12:00:00 AM         85         CASANARE     85139   \n",
       "3    01/08/2022 12:00:00 AM         47        MAGDALENA     47980   \n",
       "4    01/08/2022 12:00:00 AM         52           NARIÑO     52203   \n",
       "..                      ...        ...              ...       ...   \n",
       "296  03/18/2025 12:00:00 AM          5        ANTIOQUIA      5034   \n",
       "297  04/19/2025 12:00:00 AM         76  VALLE DEL CAUCA     76834   \n",
       "298  04/20/2025 12:00:00 AM         13          BOLIVAR     13001   \n",
       "299  04/27/2025 12:00:00 AM         95         GUAVIARE     95001   \n",
       "300  04/28/2025 12:00:00 AM         50             META     50568   \n",
       "\n",
       "                 MUNICIPIO  ZONA  CASOS  VICTIMAS  \n",
       "0                   FORTUL   NaN      1         4  \n",
       "1                  JAMUNDI   NaN      1         3  \n",
       "2                     MANI   NaN      1         3  \n",
       "3            ZONA BANANERA   NaN      1         3  \n",
       "4                    COLON   NaN      1         3  \n",
       "..                     ...   ...    ...       ...  \n",
       "296                  ANDES   NaN      1         4  \n",
       "297                  TULUA   NaN      1         3  \n",
       "298    CARTAGENA DE INDIAS   NaN      1         3  \n",
       "299  SAN JOSE DEL GUAVIARE   NaN      1         7  \n",
       "300          PUERTO GAITAN   NaN      1         4  \n",
       "\n",
       "[301 rows x 8 columns]>"
      ]
     },
     "execution_count": 6,
     "metadata": {},
     "output_type": "execute_result"
    }
   ],
   "source": [
    "# El DataFrames permite visualizar información detallada del data set\n",
    "df.info"
   ]
  },
  {
   "cell_type": "code",
   "execution_count": 7,
   "id": "a0a5f57c",
   "metadata": {},
   "outputs": [
    {
     "data": {
      "text/html": [
       "<div>\n",
       "<style scoped>\n",
       "    .dataframe tbody tr th:only-of-type {\n",
       "        vertical-align: middle;\n",
       "    }\n",
       "\n",
       "    .dataframe tbody tr th {\n",
       "        vertical-align: top;\n",
       "    }\n",
       "\n",
       "    .dataframe thead th {\n",
       "        text-align: right;\n",
       "    }\n",
       "</style>\n",
       "<table border=\"1\" class=\"dataframe\">\n",
       "  <thead>\n",
       "    <tr style=\"text-align: right;\">\n",
       "      <th></th>\n",
       "      <th>FECHA HECHO</th>\n",
       "      <th>COD_DEPTO</th>\n",
       "      <th>DEPARTAMENTO</th>\n",
       "      <th>COD_MUNI</th>\n",
       "      <th>MUNICIPIO</th>\n",
       "      <th>ZONA</th>\n",
       "      <th>CASOS</th>\n",
       "      <th>VICTIMAS</th>\n",
       "    </tr>\n",
       "  </thead>\n",
       "  <tbody>\n",
       "    <tr>\n",
       "      <th>0</th>\n",
       "      <td>01/02/2022 12:00:00 AM</td>\n",
       "      <td>81</td>\n",
       "      <td>ARAUCA</td>\n",
       "      <td>81300</td>\n",
       "      <td>FORTUL</td>\n",
       "      <td>NaN</td>\n",
       "      <td>1</td>\n",
       "      <td>4</td>\n",
       "    </tr>\n",
       "    <tr>\n",
       "      <th>1</th>\n",
       "      <td>01/03/2022 12:00:00 AM</td>\n",
       "      <td>76</td>\n",
       "      <td>VALLE DEL CAUCA</td>\n",
       "      <td>76364</td>\n",
       "      <td>JAMUNDI</td>\n",
       "      <td>NaN</td>\n",
       "      <td>1</td>\n",
       "      <td>3</td>\n",
       "    </tr>\n",
       "    <tr>\n",
       "      <th>2</th>\n",
       "      <td>01/06/2022 12:00:00 AM</td>\n",
       "      <td>85</td>\n",
       "      <td>CASANARE</td>\n",
       "      <td>85139</td>\n",
       "      <td>MANI</td>\n",
       "      <td>NaN</td>\n",
       "      <td>1</td>\n",
       "      <td>3</td>\n",
       "    </tr>\n",
       "    <tr>\n",
       "      <th>3</th>\n",
       "      <td>01/08/2022 12:00:00 AM</td>\n",
       "      <td>47</td>\n",
       "      <td>MAGDALENA</td>\n",
       "      <td>47980</td>\n",
       "      <td>ZONA BANANERA</td>\n",
       "      <td>NaN</td>\n",
       "      <td>1</td>\n",
       "      <td>3</td>\n",
       "    </tr>\n",
       "    <tr>\n",
       "      <th>4</th>\n",
       "      <td>01/08/2022 12:00:00 AM</td>\n",
       "      <td>52</td>\n",
       "      <td>NARIÑO</td>\n",
       "      <td>52203</td>\n",
       "      <td>COLON</td>\n",
       "      <td>NaN</td>\n",
       "      <td>1</td>\n",
       "      <td>3</td>\n",
       "    </tr>\n",
       "    <tr>\n",
       "      <th>...</th>\n",
       "      <td>...</td>\n",
       "      <td>...</td>\n",
       "      <td>...</td>\n",
       "      <td>...</td>\n",
       "      <td>...</td>\n",
       "      <td>...</td>\n",
       "      <td>...</td>\n",
       "      <td>...</td>\n",
       "    </tr>\n",
       "    <tr>\n",
       "      <th>296</th>\n",
       "      <td>03/18/2025 12:00:00 AM</td>\n",
       "      <td>5</td>\n",
       "      <td>ANTIOQUIA</td>\n",
       "      <td>5034</td>\n",
       "      <td>ANDES</td>\n",
       "      <td>NaN</td>\n",
       "      <td>1</td>\n",
       "      <td>4</td>\n",
       "    </tr>\n",
       "    <tr>\n",
       "      <th>297</th>\n",
       "      <td>04/19/2025 12:00:00 AM</td>\n",
       "      <td>76</td>\n",
       "      <td>VALLE DEL CAUCA</td>\n",
       "      <td>76834</td>\n",
       "      <td>TULUA</td>\n",
       "      <td>NaN</td>\n",
       "      <td>1</td>\n",
       "      <td>3</td>\n",
       "    </tr>\n",
       "    <tr>\n",
       "      <th>298</th>\n",
       "      <td>04/20/2025 12:00:00 AM</td>\n",
       "      <td>13</td>\n",
       "      <td>BOLIVAR</td>\n",
       "      <td>13001</td>\n",
       "      <td>CARTAGENA DE INDIAS</td>\n",
       "      <td>NaN</td>\n",
       "      <td>1</td>\n",
       "      <td>3</td>\n",
       "    </tr>\n",
       "    <tr>\n",
       "      <th>299</th>\n",
       "      <td>04/27/2025 12:00:00 AM</td>\n",
       "      <td>95</td>\n",
       "      <td>GUAVIARE</td>\n",
       "      <td>95001</td>\n",
       "      <td>SAN JOSE DEL GUAVIARE</td>\n",
       "      <td>NaN</td>\n",
       "      <td>1</td>\n",
       "      <td>7</td>\n",
       "    </tr>\n",
       "    <tr>\n",
       "      <th>300</th>\n",
       "      <td>04/28/2025 12:00:00 AM</td>\n",
       "      <td>50</td>\n",
       "      <td>META</td>\n",
       "      <td>50568</td>\n",
       "      <td>PUERTO GAITAN</td>\n",
       "      <td>NaN</td>\n",
       "      <td>1</td>\n",
       "      <td>4</td>\n",
       "    </tr>\n",
       "  </tbody>\n",
       "</table>\n",
       "<p>301 rows × 8 columns</p>\n",
       "</div>"
      ],
      "text/plain": [
       "                FECHA HECHO  COD_DEPTO     DEPARTAMENTO  COD_MUNI  \\\n",
       "0    01/02/2022 12:00:00 AM         81           ARAUCA     81300   \n",
       "1    01/03/2022 12:00:00 AM         76  VALLE DEL CAUCA     76364   \n",
       "2    01/06/2022 12:00:00 AM         85         CASANARE     85139   \n",
       "3    01/08/2022 12:00:00 AM         47        MAGDALENA     47980   \n",
       "4    01/08/2022 12:00:00 AM         52           NARIÑO     52203   \n",
       "..                      ...        ...              ...       ...   \n",
       "296  03/18/2025 12:00:00 AM          5        ANTIOQUIA      5034   \n",
       "297  04/19/2025 12:00:00 AM         76  VALLE DEL CAUCA     76834   \n",
       "298  04/20/2025 12:00:00 AM         13          BOLIVAR     13001   \n",
       "299  04/27/2025 12:00:00 AM         95         GUAVIARE     95001   \n",
       "300  04/28/2025 12:00:00 AM         50             META     50568   \n",
       "\n",
       "                 MUNICIPIO  ZONA  CASOS  VICTIMAS  \n",
       "0                   FORTUL   NaN      1         4  \n",
       "1                  JAMUNDI   NaN      1         3  \n",
       "2                     MANI   NaN      1         3  \n",
       "3            ZONA BANANERA   NaN      1         3  \n",
       "4                    COLON   NaN      1         3  \n",
       "..                     ...   ...    ...       ...  \n",
       "296                  ANDES   NaN      1         4  \n",
       "297                  TULUA   NaN      1         3  \n",
       "298    CARTAGENA DE INDIAS   NaN      1         3  \n",
       "299  SAN JOSE DEL GUAVIARE   NaN      1         7  \n",
       "300          PUERTO GAITAN   NaN      1         4  \n",
       "\n",
       "[301 rows x 8 columns]"
      ]
     },
     "execution_count": 7,
     "metadata": {},
     "output_type": "execute_result"
    }
   ],
   "source": [
    "df"
   ]
  },
  {
   "cell_type": "code",
   "execution_count": 8,
   "id": "9ff591e1",
   "metadata": {},
   "outputs": [
    {
     "data": {
      "text/plain": [
       "Index(['FECHA HECHO', 'COD_DEPTO', 'DEPARTAMENTO', 'COD_MUNI', 'MUNICIPIO',\n",
       "       'ZONA', 'CASOS', 'VICTIMAS'],\n",
       "      dtype='object')"
      ]
     },
     "execution_count": 8,
     "metadata": {},
     "output_type": "execute_result"
    }
   ],
   "source": [
    "# Visualiza los nombres de los encabezados\n",
    "df.columns"
   ]
  },
  {
   "cell_type": "code",
   "execution_count": 9,
   "id": "dbf3073a",
   "metadata": {},
   "outputs": [
    {
     "data": {
      "text/html": [
       "<div>\n",
       "<style scoped>\n",
       "    .dataframe tbody tr th:only-of-type {\n",
       "        vertical-align: middle;\n",
       "    }\n",
       "\n",
       "    .dataframe tbody tr th {\n",
       "        vertical-align: top;\n",
       "    }\n",
       "\n",
       "    .dataframe thead th {\n",
       "        text-align: right;\n",
       "    }\n",
       "</style>\n",
       "<table border=\"1\" class=\"dataframe\">\n",
       "  <thead>\n",
       "    <tr style=\"text-align: right;\">\n",
       "      <th></th>\n",
       "      <th>FECHA HECHO</th>\n",
       "      <th>COD_DEPTO</th>\n",
       "      <th>DEPARTAMENTO</th>\n",
       "      <th>COD_MUNI</th>\n",
       "      <th>MUNICIPIO</th>\n",
       "      <th>ZONA</th>\n",
       "      <th>CASOS</th>\n",
       "      <th>VICTIMAS</th>\n",
       "    </tr>\n",
       "  </thead>\n",
       "  <tbody>\n",
       "    <tr>\n",
       "      <th>0</th>\n",
       "      <td>01/02/2022 12:00:00 AM</td>\n",
       "      <td>81</td>\n",
       "      <td>ARAUCA</td>\n",
       "      <td>81300</td>\n",
       "      <td>FORTUL</td>\n",
       "      <td>NaN</td>\n",
       "      <td>1</td>\n",
       "      <td>4</td>\n",
       "    </tr>\n",
       "    <tr>\n",
       "      <th>1</th>\n",
       "      <td>01/03/2022 12:00:00 AM</td>\n",
       "      <td>76</td>\n",
       "      <td>VALLE DEL CAUCA</td>\n",
       "      <td>76364</td>\n",
       "      <td>JAMUNDI</td>\n",
       "      <td>NaN</td>\n",
       "      <td>1</td>\n",
       "      <td>3</td>\n",
       "    </tr>\n",
       "    <tr>\n",
       "      <th>2</th>\n",
       "      <td>01/06/2022 12:00:00 AM</td>\n",
       "      <td>85</td>\n",
       "      <td>CASANARE</td>\n",
       "      <td>85139</td>\n",
       "      <td>MANI</td>\n",
       "      <td>NaN</td>\n",
       "      <td>1</td>\n",
       "      <td>3</td>\n",
       "    </tr>\n",
       "    <tr>\n",
       "      <th>3</th>\n",
       "      <td>01/08/2022 12:00:00 AM</td>\n",
       "      <td>47</td>\n",
       "      <td>MAGDALENA</td>\n",
       "      <td>47980</td>\n",
       "      <td>ZONA BANANERA</td>\n",
       "      <td>NaN</td>\n",
       "      <td>1</td>\n",
       "      <td>3</td>\n",
       "    </tr>\n",
       "    <tr>\n",
       "      <th>4</th>\n",
       "      <td>01/08/2022 12:00:00 AM</td>\n",
       "      <td>52</td>\n",
       "      <td>NARIÑO</td>\n",
       "      <td>52203</td>\n",
       "      <td>COLON</td>\n",
       "      <td>NaN</td>\n",
       "      <td>1</td>\n",
       "      <td>3</td>\n",
       "    </tr>\n",
       "  </tbody>\n",
       "</table>\n",
       "</div>"
      ],
      "text/plain": [
       "              FECHA HECHO  COD_DEPTO     DEPARTAMENTO  COD_MUNI  \\\n",
       "0  01/02/2022 12:00:00 AM         81           ARAUCA     81300   \n",
       "1  01/03/2022 12:00:00 AM         76  VALLE DEL CAUCA     76364   \n",
       "2  01/06/2022 12:00:00 AM         85         CASANARE     85139   \n",
       "3  01/08/2022 12:00:00 AM         47        MAGDALENA     47980   \n",
       "4  01/08/2022 12:00:00 AM         52           NARIÑO     52203   \n",
       "\n",
       "       MUNICIPIO  ZONA  CASOS  VICTIMAS  \n",
       "0         FORTUL   NaN      1         4  \n",
       "1        JAMUNDI   NaN      1         3  \n",
       "2           MANI   NaN      1         3  \n",
       "3  ZONA BANANERA   NaN      1         3  \n",
       "4          COLON   NaN      1         3  "
      ]
     },
     "execution_count": 9,
     "metadata": {},
     "output_type": "execute_result"
    }
   ],
   "source": [
    "# Devuelve los encabezados y un número específico de filas, comenzando desde la fila 0\n",
    "df.head(5)"
   ]
  },
  {
   "cell_type": "code",
   "execution_count": 10,
   "id": "4bd70e2c",
   "metadata": {},
   "outputs": [
    {
     "data": {
      "text/html": [
       "<div>\n",
       "<style scoped>\n",
       "    .dataframe tbody tr th:only-of-type {\n",
       "        vertical-align: middle;\n",
       "    }\n",
       "\n",
       "    .dataframe tbody tr th {\n",
       "        vertical-align: top;\n",
       "    }\n",
       "\n",
       "    .dataframe thead th {\n",
       "        text-align: right;\n",
       "    }\n",
       "</style>\n",
       "<table border=\"1\" class=\"dataframe\">\n",
       "  <thead>\n",
       "    <tr style=\"text-align: right;\">\n",
       "      <th></th>\n",
       "      <th>FECHA HECHO</th>\n",
       "      <th>COD_DEPTO</th>\n",
       "      <th>DEPARTAMENTO</th>\n",
       "      <th>COD_MUNI</th>\n",
       "      <th>MUNICIPIO</th>\n",
       "      <th>ZONA</th>\n",
       "      <th>CASOS</th>\n",
       "      <th>VICTIMAS</th>\n",
       "    </tr>\n",
       "  </thead>\n",
       "  <tbody>\n",
       "    <tr>\n",
       "      <th>297</th>\n",
       "      <td>04/19/2025 12:00:00 AM</td>\n",
       "      <td>76</td>\n",
       "      <td>VALLE DEL CAUCA</td>\n",
       "      <td>76834</td>\n",
       "      <td>TULUA</td>\n",
       "      <td>NaN</td>\n",
       "      <td>1</td>\n",
       "      <td>3</td>\n",
       "    </tr>\n",
       "    <tr>\n",
       "      <th>298</th>\n",
       "      <td>04/20/2025 12:00:00 AM</td>\n",
       "      <td>13</td>\n",
       "      <td>BOLIVAR</td>\n",
       "      <td>13001</td>\n",
       "      <td>CARTAGENA DE INDIAS</td>\n",
       "      <td>NaN</td>\n",
       "      <td>1</td>\n",
       "      <td>3</td>\n",
       "    </tr>\n",
       "    <tr>\n",
       "      <th>299</th>\n",
       "      <td>04/27/2025 12:00:00 AM</td>\n",
       "      <td>95</td>\n",
       "      <td>GUAVIARE</td>\n",
       "      <td>95001</td>\n",
       "      <td>SAN JOSE DEL GUAVIARE</td>\n",
       "      <td>NaN</td>\n",
       "      <td>1</td>\n",
       "      <td>7</td>\n",
       "    </tr>\n",
       "    <tr>\n",
       "      <th>300</th>\n",
       "      <td>04/28/2025 12:00:00 AM</td>\n",
       "      <td>50</td>\n",
       "      <td>META</td>\n",
       "      <td>50568</td>\n",
       "      <td>PUERTO GAITAN</td>\n",
       "      <td>NaN</td>\n",
       "      <td>1</td>\n",
       "      <td>4</td>\n",
       "    </tr>\n",
       "  </tbody>\n",
       "</table>\n",
       "</div>"
      ],
      "text/plain": [
       "                FECHA HECHO  COD_DEPTO     DEPARTAMENTO  COD_MUNI  \\\n",
       "297  04/19/2025 12:00:00 AM         76  VALLE DEL CAUCA     76834   \n",
       "298  04/20/2025 12:00:00 AM         13          BOLIVAR     13001   \n",
       "299  04/27/2025 12:00:00 AM         95         GUAVIARE     95001   \n",
       "300  04/28/2025 12:00:00 AM         50             META     50568   \n",
       "\n",
       "                 MUNICIPIO  ZONA  CASOS  VICTIMAS  \n",
       "297                  TULUA   NaN      1         3  \n",
       "298    CARTAGENA DE INDIAS   NaN      1         3  \n",
       "299  SAN JOSE DEL GUAVIARE   NaN      1         7  \n",
       "300          PUERTO GAITAN   NaN      1         4  "
      ]
     },
     "execution_count": 10,
     "metadata": {},
     "output_type": "execute_result"
    }
   ],
   "source": [
    "# tail() muestra las últimas filas del DataFrame y por defecto 5 si no se especifica el #; NaN indica valores faltantes.\n",
    "df.tail(4)"
   ]
  },
  {
   "cell_type": "code",
   "execution_count": 11,
   "id": "8ff7c688",
   "metadata": {},
   "outputs": [
    {
     "data": {
      "text/plain": [
       "FECHA HECHO     01/02/2022 12:00:00 AM\n",
       "COD_DEPTO                           81\n",
       "DEPARTAMENTO                    ARAUCA\n",
       "COD_MUNI                         81300\n",
       "MUNICIPIO                       FORTUL\n",
       "ZONA                               NaN\n",
       "CASOS                                1\n",
       "VICTIMAS                             4\n",
       "Name: 0, dtype: object"
      ]
     },
     "execution_count": 11,
     "metadata": {},
     "output_type": "execute_result"
    }
   ],
   "source": [
    "# loc permite acceder a filas por índice; por ejemplo, loc[0] devuelve la primera fila.\n",
    "df.loc[0]"
   ]
  },
  {
   "cell_type": "code",
   "execution_count": 14,
   "id": "e5a57c05",
   "metadata": {},
   "outputs": [
    {
     "data": {
      "text/plain": [
       "count    301.000000\n",
       "mean      39.893688\n",
       "std       28.595372\n",
       "min        5.000000\n",
       "25%       13.000000\n",
       "50%       41.000000\n",
       "75%       68.000000\n",
       "max       95.000000\n",
       "Name: COD_DEPTO, dtype: float64"
      ]
     },
     "execution_count": 14,
     "metadata": {},
     "output_type": "execute_result"
    }
   ],
   "source": [
    "# describe() genera estadísticas descriptivas de cada columna numérica.\n",
    "df.COD_DEPTO.describe()\n"
   ]
  },
  {
   "cell_type": "code",
   "execution_count": 16,
   "id": "e9d134c2",
   "metadata": {},
   "outputs": [
    {
     "data": {
      "text/plain": [
       "count      301.000000\n",
       "mean     40212.687708\n",
       "std      28611.011324\n",
       "min       5001.000000\n",
       "25%      13001.000000\n",
       "50%      41020.000000\n",
       "75%      68190.000000\n",
       "max      95001.000000\n",
       "Name: COD_MUNI, dtype: float64"
      ]
     },
     "execution_count": 16,
     "metadata": {},
     "output_type": "execute_result"
    }
   ],
   "source": [
    "df.COD_MUNI.describe()\n"
   ]
  },
  {
   "cell_type": "code",
   "execution_count": 15,
   "id": "a5f263f2",
   "metadata": {},
   "outputs": [
    {
     "data": {
      "text/plain": [
       "count       301\n",
       "unique       28\n",
       "top       CAUCA\n",
       "freq         36\n",
       "Name: DEPARTAMENTO, dtype: object"
      ]
     },
     "execution_count": 15,
     "metadata": {},
     "output_type": "execute_result"
    }
   ],
   "source": [
    "df[\"DEPARTAMENTO\"].describe()"
   ]
  },
  {
   "cell_type": "code",
   "execution_count": 17,
   "id": "0f511934",
   "metadata": {},
   "outputs": [
    {
     "data": {
      "text/plain": [
       "count             301\n",
       "unique            170\n",
       "top       BOGOTA D.C.\n",
       "freq               16\n",
       "Name: MUNICIPIO, dtype: object"
      ]
     },
     "execution_count": 17,
     "metadata": {},
     "output_type": "execute_result"
    }
   ],
   "source": [
    "df[\"MUNICIPIO\"].describe()"
   ]
  },
  {
   "cell_type": "code",
   "execution_count": 20,
   "id": "a4d3e3be",
   "metadata": {},
   "outputs": [
    {
     "data": {
      "text/plain": [
       "count    0.0\n",
       "mean     NaN\n",
       "std      NaN\n",
       "min      NaN\n",
       "25%      NaN\n",
       "50%      NaN\n",
       "75%      NaN\n",
       "max      NaN\n",
       "Name: ZONA, dtype: float64"
      ]
     },
     "execution_count": 20,
     "metadata": {},
     "output_type": "execute_result"
    }
   ],
   "source": [
    "df.ZONA.describe()\n"
   ]
  },
  {
   "cell_type": "code",
   "execution_count": 21,
   "id": "91f4df3b",
   "metadata": {},
   "outputs": [
    {
     "data": {
      "text/plain": [
       "count    301.000000\n",
       "mean       3.488372\n",
       "std        1.215469\n",
       "min        3.000000\n",
       "25%        3.000000\n",
       "50%        3.000000\n",
       "75%        4.000000\n",
       "max       18.000000\n",
       "Name: VICTIMAS, dtype: float64"
      ]
     },
     "execution_count": 21,
     "metadata": {},
     "output_type": "execute_result"
    }
   ],
   "source": [
    "df.VICTIMAS.describe()\n"
   ]
  },
  {
   "cell_type": "code",
   "execution_count": null,
   "id": "11032446",
   "metadata": {},
   "outputs": [
    {
     "data": {
      "text/plain": [
       "np.int64(301)"
      ]
     },
     "execution_count": 22,
     "metadata": {},
     "output_type": "execute_result"
    }
   ],
   "source": [
    "# Conteo de Victimas\n",
    "df.VICTIMAS.count()\n"
   ]
  },
  {
   "cell_type": "code",
   "execution_count": null,
   "id": "8d326eaa",
   "metadata": {},
   "outputs": [
    {
     "data": {
      "text/plain": [
       "np.float64(3.488372093023256)"
      ]
     },
     "execution_count": 23,
     "metadata": {},
     "output_type": "execute_result"
    }
   ],
   "source": [
    "# Promedio de Victimas\n",
    "df.VICTIMAS.mean()"
   ]
  },
  {
   "cell_type": "code",
   "execution_count": null,
   "id": "40e336a2",
   "metadata": {},
   "outputs": [
    {
     "data": {
      "text/plain": [
       "np.float64(1.2154687742123493)"
      ]
     },
     "execution_count": 24,
     "metadata": {},
     "output_type": "execute_result"
    }
   ],
   "source": [
    "# Desviación Estándar de Victimas \n",
    "df.VICTIMAS.std()"
   ]
  },
  {
   "cell_type": "code",
   "execution_count": null,
   "id": "09160f77",
   "metadata": {},
   "outputs": [
    {
     "data": {
      "text/plain": [
       "np.int64(3)"
      ]
     },
     "execution_count": 25,
     "metadata": {},
     "output_type": "execute_result"
    }
   ],
   "source": [
    "# Valor Mínimo de Victimas \n",
    "df.VICTIMAS.min()\n"
   ]
  },
  {
   "cell_type": "code",
   "execution_count": null,
   "id": "429d1987",
   "metadata": {},
   "outputs": [
    {
     "data": {
      "text/plain": [
       "np.int64(18)"
      ]
     },
     "execution_count": 26,
     "metadata": {},
     "output_type": "execute_result"
    }
   ],
   "source": [
    "# Valor Máximo de Victimas \n",
    "df.VICTIMAS.max()"
   ]
  },
  {
   "cell_type": "code",
   "execution_count": 27,
   "id": "e75f61e7",
   "metadata": {},
   "outputs": [
    {
     "data": {
      "text/plain": [
       "np.float64(3.0)"
      ]
     },
     "execution_count": 27,
     "metadata": {},
     "output_type": "execute_result"
    }
   ],
   "source": [
    "# Mediana de Victimas\n",
    "df.VICTIMAS.median()"
   ]
  },
  {
   "cell_type": "code",
   "execution_count": 28,
   "id": "a0adc665",
   "metadata": {},
   "outputs": [
    {
     "data": {
      "text/plain": [
       "array([nan])"
      ]
     },
     "execution_count": 28,
     "metadata": {},
     "output_type": "execute_result"
    }
   ],
   "source": [
    "# Obtener valores unicos de cada criterio\n",
    "df.ZONA.unique()"
   ]
  },
  {
   "cell_type": "code",
   "execution_count": 30,
   "id": "53bc96ed",
   "metadata": {},
   "outputs": [
    {
     "data": {
      "text/plain": [
       "array([ 4,  3,  7,  5,  6, 18, 10])"
      ]
     },
     "execution_count": 30,
     "metadata": {},
     "output_type": "execute_result"
    }
   ],
   "source": [
    "# Obtener valores unicos de cada criterio\n",
    "df.VICTIMAS.unique()"
   ]
  },
  {
   "cell_type": "code",
   "execution_count": 31,
   "id": "bd3b1c74",
   "metadata": {},
   "outputs": [
    {
     "data": {
      "text/plain": [
       "array([81, 76, 85, 47, 52, 86,  5, 19, 91, 11, 13, 50, 25,  8, 73, 20, 18,\n",
       "       70, 54, 41, 68, 66, 44, 23, 15, 27, 95, 17])"
      ]
     },
     "execution_count": 31,
     "metadata": {},
     "output_type": "execute_result"
    }
   ],
   "source": [
    "# Obtener valores unicos de cada criterio\n",
    "df.COD_DEPTO.unique()"
   ]
  },
  {
   "cell_type": "code",
   "execution_count": 32,
   "id": "1d64fe75",
   "metadata": {},
   "outputs": [
    {
     "data": {
      "text/plain": [
       "array([81300, 76364, 85139, 47980, 52203, 86571,  5690, 19110,  5038,\n",
       "       86573, 81065,  5604, 81736, 91001, 47001,  5861,  5001, 11001,\n",
       "       76243, 76111,  5154, 13001,  5361, 50370, 81794, 19075,  5284,\n",
       "       25645, 76147, 19100,  8001, 73168, 20238, 18150, 52835,  5642,\n",
       "       18410, 19698,  8758, 18592, 70001, 20400, 19450, 52079, 76400,\n",
       "       19473, 19256, 47288, 76823, 18256,  5250, 52227, 54001, 52427,\n",
       "       41001, 68385, 50577, 86569, 76001, 66383, 19622, 70713, 19130,\n",
       "       86568, 19050, 18785, 50568, 86320, 20614, 44001, 52356,  5615,\n",
       "       47245,  5101, 23678,  5134, 47189, 73268, 54405, 15293, 52256,\n",
       "       54245, 27600, 44090, 47460, 41298, 18001, 86865, 54810, 95001,\n",
       "       86885, 19548, 20787,  8573, 50001, 27001, 19212, 76834, 27077,\n",
       "       41357,  5120, 66682, 86001, 13433, 50689, 13836, 20001,  5002,\n",
       "       19142,  8433, 23807,  5088, 19455, 52254, 76828,  5579, 85440,\n",
       "       76109, 76520,  5042, 17380, 25473, 76130, 13473, 41551, 85125,\n",
       "       76041, 66687, 47570, 27413,  5847, 47703,  5031, 18094, 76275,\n",
       "       52786, 54874,  5854,  5809,  5197, 41349,  5380, 19418, 23168,\n",
       "       47268,  5893, 54003, 54398, 68190, 76403, 41006, 19821, 68081,\n",
       "       19137, 19780, 66001, 23001, 76113,  5040, 41020, 52540, 70702,\n",
       "       20011,  8634,  5887, 44035, 54498, 19300,  5034])"
      ]
     },
     "execution_count": 32,
     "metadata": {},
     "output_type": "execute_result"
    }
   ],
   "source": [
    "# Obtener valores unicos de cada criterio\n",
    "df.COD_MUNI.unique()"
   ]
  },
  {
   "cell_type": "code",
   "execution_count": 33,
   "id": "a7321dd6",
   "metadata": {},
   "outputs": [
    {
     "data": {
      "text/plain": [
       "array(['ARAUCA', 'VALLE DEL CAUCA', 'CASANARE', 'MAGDALENA', 'NARIÑO',\n",
       "       'PUTUMAYO', 'ANTIOQUIA', 'CAUCA', 'AMAZONAS', 'BOGOTA D.C.',\n",
       "       'BOLIVAR', 'META', 'CUNDINAMARCA', 'ATLANTICO', 'TOLIMA', 'CESAR',\n",
       "       'CAQUETA', 'SUCRE', 'NORTE DE SANTANDER', 'HUILA', 'SANTANDER',\n",
       "       'RISARALDA', 'LA GUAJIRA', 'CORDOBA', 'BOYACA', 'CHOCO',\n",
       "       'GUAVIARE', 'CALDAS'], dtype=object)"
      ]
     },
     "execution_count": 33,
     "metadata": {},
     "output_type": "execute_result"
    }
   ],
   "source": [
    "# Obtener valores unicos de cada criterio\n",
    "df[\"DEPARTAMENTO\"].unique()"
   ]
  },
  {
   "cell_type": "code",
   "execution_count": 34,
   "id": "57a2533f",
   "metadata": {},
   "outputs": [
    {
     "data": {
      "text/plain": [
       "array(['FORTUL', 'JAMUNDI', 'MANI', 'ZONA BANANERA', 'COLON',\n",
       "       'PUERTO GUZMAN', 'SANTO DOMINGO', 'BUENOS AIRES', 'ANGOSTURA',\n",
       "       'LEGUIZAMO', 'ARAUQUITA', 'REMEDIOS', 'SARAVENA', 'LETICIA',\n",
       "       'SANTA MARTA', 'VENECIA', 'MEDELLIN', 'BOGOTA D.C.', 'EL AGUILA',\n",
       "       'GUADALAJARA DE BUGA', 'CAUCASIA', 'CARTAGENA', 'ITUANGO', 'URIBE',\n",
       "       'TAME', 'BALBOA', 'FRONTINO', 'SAN ANTONIO DEL TEQUENDAMA',\n",
       "       'CARTAGO', 'BOLIVAR', 'BARRANQUILLA', 'CHAPARRAL', 'EL COPEY',\n",
       "       'CARTAGENA DEL CHAIRA', 'SAN ANDRES DE TUMACO', 'SALGAR',\n",
       "       'LA MONTAÑITA', 'SANTANDER DE QUILICHAO', 'SOLEDAD', 'PUERTO RICO',\n",
       "       'SINCELEJO', 'LA JAGUA DE IBIRICO', 'MERCADERES', 'BARBACOAS',\n",
       "       'LA UNION', 'MORALES', 'EL TAMBO', 'FUNDACION', 'TORO',\n",
       "       'EL PAUJIL', 'EL BAGRE', 'CUMBAL', 'CUCUTA', 'MAGUI', 'NEIVA',\n",
       "       'LANDAZURI', 'PUERTO LLERAS', 'PUERTO CAICEDO', 'CALI', 'LA CELIA',\n",
       "       'ROSAS', 'SAN ONOFRE', 'CAJIBIO', 'PUERTO ASIS', 'ARGELIA',\n",
       "       'SOLITA', 'PUERTO GAITAN', 'ORITO', 'RIO DE ORO', 'RIOHACHA',\n",
       "       'IPIALES', 'RIONEGRO', 'EL BANCO', 'CIUDAD BOLIVAR', 'SAN CARLOS',\n",
       "       'CAMPAMENTO', 'CIENAGA', 'ESPINAL', 'LOS PATIOS', 'GACHANTIVA',\n",
       "       'EL ROSARIO', 'EL CARMEN', 'RIO QUITO', 'DIBULLA', 'NUEVA GRANADA',\n",
       "       'GARZON', 'FLORENCIA', 'VALLE DEL GUAMUEZ', 'TIBU',\n",
       "       'SAN JOSE DEL GUAVIARE', 'VILLAGARZON', 'PIENDAMO', 'TAMALAMEQUE',\n",
       "       'PUERTO COLOMBIA', 'VILLAVICENCIO', 'QUIBDO', 'CORINTO', 'TULUA',\n",
       "       'BAJO BAUDO', 'IQUIRA', 'CACERES', 'SANTA ROSA DE CABAL', 'MOCOA',\n",
       "       'MAHATES', 'SAN MARTIN', 'TURBACO', 'VALLEDUPAR', 'ABEJORRAL',\n",
       "       'CALOTO', 'MALAMBO', 'TIERRALTA', 'BELLO', 'MIRANDA', 'EL PEÑOL',\n",
       "       'TRUJILLO', 'PUERTO BERRIO', 'VILLANUEVA', 'BUENAVENTURA',\n",
       "       'PALMIRA', 'SANTAFE DE ANTIOQUIA', 'LA DORADA', 'MOSQUERA',\n",
       "       'CANDELARIA', 'PITALITO', 'HATO COROZAL', 'ANSERMANUEVO',\n",
       "       'SANTUARIO', 'PUERTO LEGUIZAMO', 'PUEBLOVIEJO', 'LLORO', 'URRAO',\n",
       "       'SAN ZENON', 'AMALFI', 'BELEN DE LOS ANDAQUIES', 'FLORIDA',\n",
       "       'TAMINANGO', 'VILLA DEL ROSARIO', 'VALDIVIA', 'TITIRIBI',\n",
       "       'COCORNA', 'HOBO', 'CARTAGENA DE INDIAS', 'LA ESTRELLA',\n",
       "       'LOPEZ DE MICAY', 'CHIMA', 'EL RETEN', 'YONDO', 'ABREGO',\n",
       "       'LA PLAYA', 'CIMITARRA', 'LA VICTORIA', 'ACEVEDO', 'TORIBIO',\n",
       "       'BARRANCABERMEJA', 'CALDONO', 'SUAREZ', 'PEREIRA', 'MONTERIA',\n",
       "       'BUGALAGRANDE', 'ANORI', 'ALGECIRAS', 'POLICARPA',\n",
       "       'SAN JUAN DE BETULIA', 'AGUACHICA', 'SABANAGRANDE', 'YARUMAL',\n",
       "       'ALBANIA', 'OCAÑA', 'GUACHENE', 'ANDES'], dtype=object)"
      ]
     },
     "execution_count": 34,
     "metadata": {},
     "output_type": "execute_result"
    }
   ],
   "source": [
    "# Obtener valores unicos de cada criterio\n",
    "df[\"MUNICIPIO\"].unique()"
   ]
  }
 ],
 "metadata": {
  "kernelspec": {
   "display_name": "Python 3",
   "language": "python",
   "name": "python3"
  },
  "language_info": {
   "codemirror_mode": {
    "name": "ipython",
    "version": 3
   },
   "file_extension": ".py",
   "mimetype": "text/x-python",
   "name": "python",
   "nbconvert_exporter": "python",
   "pygments_lexer": "ipython3",
   "version": "3.13.2"
  }
 },
 "nbformat": 4,
 "nbformat_minor": 5
}
