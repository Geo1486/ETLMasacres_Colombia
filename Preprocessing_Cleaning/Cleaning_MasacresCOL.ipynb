{
 "cells": [
  {
   "cell_type": "code",
   "execution_count": 49,
   "id": "32b8a5c7",
   "metadata": {},
   "outputs": [],
   "source": [
    "# Importa la biblioteca pandas y la asigna al alias pd, para manejo de datos en estructuras tipo tabla.\n",
    "import pandas as pd"
   ]
  },
  {
   "cell_type": "code",
   "execution_count": null,
   "id": "6fdaed53",
   "metadata": {},
   "outputs": [],
   "source": [
    "# Carga el archivo CSV en un DataFrame llamado df para su análisis y manipulación.\n",
    "df = pd.read_csv(\"Masacres_en_Colombia.csv\")"
   ]
  },
  {
   "cell_type": "code",
   "execution_count": 50,
   "id": "892b4893",
   "metadata": {},
   "outputs": [
    {
     "data": {
      "text/plain": [
       "(301, 8)"
      ]
     },
     "execution_count": 50,
     "metadata": {},
     "output_type": "execute_result"
    }
   ],
   "source": [
    "# Muestra la dimensión del DataFrame como (filas, columnas).\n",
    "df.shape"
   ]
  },
  {
   "cell_type": "code",
   "execution_count": null,
   "id": "85fe4f5e",
   "metadata": {},
   "outputs": [],
   "source": [
    "\n",
    "# Convertimos la columna a tipo datetime\n",
    "df['FECHA HECHO'] = pd.to_datetime(df['FECHA HECHO'])\n",
    "\n",
    "# Reemplazamos la columna con solo la fecha (sin la hora)\n",
    "df['FECHA HECHO'] = df['FECHA HECHO'].dt.date"
   ]
  },
  {
   "cell_type": "code",
   "execution_count": 52,
   "id": "4a173ae1",
   "metadata": {},
   "outputs": [
    {
     "name": "stdout",
     "output_type": "stream",
     "text": [
      "<class 'pandas.core.frame.DataFrame'>\n",
      "RangeIndex: 301 entries, 0 to 300\n",
      "Data columns (total 8 columns):\n",
      " #   Column        Non-Null Count  Dtype  \n",
      "---  ------        --------------  -----  \n",
      " 0   FECHA HECHO   301 non-null    object \n",
      " 1   COD_DEPTO     301 non-null    int64  \n",
      " 2   DEPARTAMENTO  301 non-null    object \n",
      " 3   COD_MUNI      301 non-null    int64  \n",
      " 4   MUNICIPIO     301 non-null    object \n",
      " 5   ZONA          0 non-null      float64\n",
      " 6   CASOS         301 non-null    int64  \n",
      " 7   VICTIMAS      301 non-null    int64  \n",
      "dtypes: float64(1), int64(4), object(3)\n",
      "memory usage: 18.9+ KB\n"
     ]
    }
   ],
   "source": [
    "# Muestra un resumen del DataFrame: número de entradas, tipos de datos y valores no nulos por columna.\n",
    "df.info()"
   ]
  },
  {
   "cell_type": "code",
   "execution_count": 53,
   "id": "890ae802",
   "metadata": {},
   "outputs": [
    {
     "name": "stdout",
     "output_type": "stream",
     "text": [
      "<class 'pandas.core.frame.DataFrame'>\n",
      "RangeIndex: 301 entries, 0 to 300\n",
      "Data columns (total 7 columns):\n",
      " #   Column        Non-Null Count  Dtype \n",
      "---  ------        --------------  ----- \n",
      " 0   FECHA_HECHO   301 non-null    object\n",
      " 1   COD_DEPTO     301 non-null    int64 \n",
      " 2   DEPARTAMENTO  301 non-null    string\n",
      " 3   COD_MUNI      301 non-null    int64 \n",
      " 4   MUNICIPIO     301 non-null    string\n",
      " 5   CASOS         301 non-null    int64 \n",
      " 6   VICTIMAS      301 non-null    int64 \n",
      "dtypes: int64(4), object(1), string(2)\n",
      "memory usage: 16.6+ KB\n"
     ]
    }
   ],
   "source": [
    "# Verifica la estructura del DataFrame después de eliminar columnas: entradas, tipos de datos y valores no nulos.\n",
    "df_cleaned.info()"
   ]
  },
  {
   "cell_type": "code",
   "execution_count": 54,
   "id": "9861da85",
   "metadata": {},
   "outputs": [],
   "source": [
    "# Elimina las filas con valores nulos (NaN) en el DataFrame.\n",
    "df_cleaned = df_cleaned.dropna()"
   ]
  },
  {
   "cell_type": "code",
   "execution_count": 72,
   "id": "c6e904f4",
   "metadata": {},
   "outputs": [],
   "source": [
    "df_cleaned['FECHA HECHO'] = pd.to_datetime(df_cleaned['FECHA HECHO'], format=\"%d/%m/%Y\")"
   ]
  },
  {
   "cell_type": "code",
   "execution_count": 73,
   "id": "3c79719c",
   "metadata": {},
   "outputs": [
    {
     "data": {
      "text/plain": [
       "(301, 7)"
      ]
     },
     "execution_count": 73,
     "metadata": {},
     "output_type": "execute_result"
    }
   ],
   "source": [
    "df_cleaned.shape"
   ]
  },
  {
   "cell_type": "code",
   "execution_count": 74,
   "id": "57416e73",
   "metadata": {},
   "outputs": [
    {
     "data": {
      "text/plain": [
       "0"
      ]
     },
     "execution_count": 74,
     "metadata": {},
     "output_type": "execute_result"
    }
   ],
   "source": [
    "# Calcula la diferencia en el número de filas antes y después de eliminar las filas con valores nulos.\n",
    "# Muestra cuántas filas fueron eliminadas.\n",
    "\n",
    "rows_before = df.shape[0]\n",
    "rows_after = df_cleaned.shape[0]\n",
    "\n",
    "rows_before - rows_after"
   ]
  },
  {
   "cell_type": "code",
   "execution_count": 75,
   "id": "e90dd424",
   "metadata": {},
   "outputs": [],
   "source": [
    "# Convierte la columna a tipo de dato 'string' 'float' 'int' para asegurar consistencia en el formato y mantenerlas para realizar cálculos o análisis\n",
    "\n",
    "df_cleaned['DEPARTAMENTO'] = df_cleaned['DEPARTAMENTO'].astype('string')\n",
    "df_cleaned['MUNICIPIO'] = df_cleaned['MUNICIPIO'].astype('string')"
   ]
  },
  {
   "cell_type": "code",
   "execution_count": 76,
   "id": "d93d1e42",
   "metadata": {},
   "outputs": [],
   "source": [
    "df_cleaned = df.drop(columns=[\"ZONA\"])"
   ]
  },
  {
   "cell_type": "code",
   "execution_count": 77,
   "id": "3fec22b0",
   "metadata": {},
   "outputs": [
    {
     "name": "stdout",
     "output_type": "stream",
     "text": [
      "<class 'pandas.core.frame.DataFrame'>\n",
      "RangeIndex: 301 entries, 0 to 300\n",
      "Data columns (total 7 columns):\n",
      " #   Column        Non-Null Count  Dtype \n",
      "---  ------        --------------  ----- \n",
      " 0   FECHA HECHO   301 non-null    object\n",
      " 1   COD_DEPTO     301 non-null    int64 \n",
      " 2   DEPARTAMENTO  301 non-null    object\n",
      " 3   COD_MUNI      301 non-null    int64 \n",
      " 4   MUNICIPIO     301 non-null    object\n",
      " 5   CASOS         301 non-null    int64 \n",
      " 6   VICTIMAS      301 non-null    int64 \n",
      "dtypes: int64(4), object(3)\n",
      "memory usage: 16.6+ KB\n"
     ]
    }
   ],
   "source": [
    "df_cleaned.info()"
   ]
  },
  {
   "cell_type": "code",
   "execution_count": 78,
   "id": "3bba7649",
   "metadata": {},
   "outputs": [
    {
     "data": {
      "text/plain": [
       "['AMAZONAS',\n",
       " 'ANTIOQUIA',\n",
       " 'ARAUCA',\n",
       " 'ATLANTICO',\n",
       " 'BOGOTA D.C.',\n",
       " 'BOLIVAR',\n",
       " 'BOYACA',\n",
       " 'CALDAS',\n",
       " 'CAQUETA',\n",
       " 'CASANARE',\n",
       " 'CAUCA',\n",
       " 'CESAR',\n",
       " 'CHOCO',\n",
       " 'CORDOBA',\n",
       " 'CUNDINAMARCA',\n",
       " 'GUAVIARE',\n",
       " 'HUILA',\n",
       " 'LA GUAJIRA',\n",
       " 'MAGDALENA',\n",
       " 'META',\n",
       " 'NARIÑO',\n",
       " 'NORTE DE SANTANDER',\n",
       " 'PUTUMAYO',\n",
       " 'RISARALDA',\n",
       " 'SANTANDER',\n",
       " 'SUCRE',\n",
       " 'TOLIMA',\n",
       " 'VALLE DEL CAUCA']"
      ]
     },
     "execution_count": 78,
     "metadata": {},
     "output_type": "execute_result"
    }
   ],
   "source": [
    "# Muestra una lista ordenada de los valores únicos presentes en la columna.\n",
    "sorted(df_cleaned.DEPARTAMENTO.unique())"
   ]
  },
  {
   "cell_type": "code",
   "execution_count": 79,
   "id": "c60bc414",
   "metadata": {},
   "outputs": [
    {
     "data": {
      "text/plain": [
       "['ABEJORRAL',\n",
       " 'ABREGO',\n",
       " 'ACEVEDO',\n",
       " 'AGUACHICA',\n",
       " 'ALBANIA',\n",
       " 'ALGECIRAS',\n",
       " 'AMALFI',\n",
       " 'ANDES',\n",
       " 'ANGOSTURA',\n",
       " 'ANORI',\n",
       " 'ANSERMANUEVO',\n",
       " 'ARAUQUITA',\n",
       " 'ARGELIA',\n",
       " 'BAJO BAUDO',\n",
       " 'BALBOA',\n",
       " 'BARBACOAS',\n",
       " 'BARRANCABERMEJA',\n",
       " 'BARRANQUILLA',\n",
       " 'BELEN DE LOS ANDAQUIES',\n",
       " 'BELLO',\n",
       " 'BOGOTA D.C.',\n",
       " 'BOLIVAR',\n",
       " 'BUENAVENTURA',\n",
       " 'BUENOS AIRES',\n",
       " 'BUGALAGRANDE',\n",
       " 'CACERES',\n",
       " 'CAJIBIO',\n",
       " 'CALDONO',\n",
       " 'CALI',\n",
       " 'CALOTO',\n",
       " 'CAMPAMENTO',\n",
       " 'CANDELARIA',\n",
       " 'CARTAGENA',\n",
       " 'CARTAGENA DE INDIAS',\n",
       " 'CARTAGENA DEL CHAIRA',\n",
       " 'CARTAGO',\n",
       " 'CAUCASIA',\n",
       " 'CHAPARRAL',\n",
       " 'CHIMA',\n",
       " 'CIENAGA',\n",
       " 'CIMITARRA',\n",
       " 'CIUDAD BOLIVAR',\n",
       " 'COCORNA',\n",
       " 'COLON',\n",
       " 'CORINTO',\n",
       " 'CUCUTA',\n",
       " 'CUMBAL',\n",
       " 'DIBULLA',\n",
       " 'EL AGUILA',\n",
       " 'EL BAGRE',\n",
       " 'EL BANCO',\n",
       " 'EL CARMEN',\n",
       " 'EL COPEY',\n",
       " 'EL PAUJIL',\n",
       " 'EL PEÑOL',\n",
       " 'EL RETEN',\n",
       " 'EL ROSARIO',\n",
       " 'EL TAMBO',\n",
       " 'ESPINAL',\n",
       " 'FLORENCIA',\n",
       " 'FLORIDA',\n",
       " 'FORTUL',\n",
       " 'FRONTINO',\n",
       " 'FUNDACION',\n",
       " 'GACHANTIVA',\n",
       " 'GARZON',\n",
       " 'GUACHENE',\n",
       " 'GUADALAJARA DE BUGA',\n",
       " 'HATO COROZAL',\n",
       " 'HOBO',\n",
       " 'IPIALES',\n",
       " 'IQUIRA',\n",
       " 'ITUANGO',\n",
       " 'JAMUNDI',\n",
       " 'LA CELIA',\n",
       " 'LA DORADA',\n",
       " 'LA ESTRELLA',\n",
       " 'LA JAGUA DE IBIRICO',\n",
       " 'LA MONTAÑITA',\n",
       " 'LA PLAYA',\n",
       " 'LA UNION',\n",
       " 'LA VICTORIA',\n",
       " 'LANDAZURI',\n",
       " 'LEGUIZAMO',\n",
       " 'LETICIA',\n",
       " 'LLORO',\n",
       " 'LOPEZ DE MICAY',\n",
       " 'LOS PATIOS',\n",
       " 'MAGUI',\n",
       " 'MAHATES',\n",
       " 'MALAMBO',\n",
       " 'MANI',\n",
       " 'MEDELLIN',\n",
       " 'MERCADERES',\n",
       " 'MIRANDA',\n",
       " 'MOCOA',\n",
       " 'MONTERIA',\n",
       " 'MORALES',\n",
       " 'MOSQUERA',\n",
       " 'NEIVA',\n",
       " 'NUEVA GRANADA',\n",
       " 'OCAÑA',\n",
       " 'ORITO',\n",
       " 'PALMIRA',\n",
       " 'PEREIRA',\n",
       " 'PIENDAMO',\n",
       " 'PITALITO',\n",
       " 'POLICARPA',\n",
       " 'PUEBLOVIEJO',\n",
       " 'PUERTO ASIS',\n",
       " 'PUERTO BERRIO',\n",
       " 'PUERTO CAICEDO',\n",
       " 'PUERTO COLOMBIA',\n",
       " 'PUERTO GAITAN',\n",
       " 'PUERTO GUZMAN',\n",
       " 'PUERTO LEGUIZAMO',\n",
       " 'PUERTO LLERAS',\n",
       " 'PUERTO RICO',\n",
       " 'QUIBDO',\n",
       " 'REMEDIOS',\n",
       " 'RIO DE ORO',\n",
       " 'RIO QUITO',\n",
       " 'RIOHACHA',\n",
       " 'RIONEGRO',\n",
       " 'ROSAS',\n",
       " 'SABANAGRANDE',\n",
       " 'SALGAR',\n",
       " 'SAN ANDRES DE TUMACO',\n",
       " 'SAN ANTONIO DEL TEQUENDAMA',\n",
       " 'SAN CARLOS',\n",
       " 'SAN JOSE DEL GUAVIARE',\n",
       " 'SAN JUAN DE BETULIA',\n",
       " 'SAN MARTIN',\n",
       " 'SAN ONOFRE',\n",
       " 'SAN ZENON',\n",
       " 'SANTA MARTA',\n",
       " 'SANTA ROSA DE CABAL',\n",
       " 'SANTAFE DE ANTIOQUIA',\n",
       " 'SANTANDER DE QUILICHAO',\n",
       " 'SANTO DOMINGO',\n",
       " 'SANTUARIO',\n",
       " 'SARAVENA',\n",
       " 'SINCELEJO',\n",
       " 'SOLEDAD',\n",
       " 'SOLITA',\n",
       " 'SUAREZ',\n",
       " 'TAMALAMEQUE',\n",
       " 'TAME',\n",
       " 'TAMINANGO',\n",
       " 'TIBU',\n",
       " 'TIERRALTA',\n",
       " 'TITIRIBI',\n",
       " 'TORIBIO',\n",
       " 'TORO',\n",
       " 'TRUJILLO',\n",
       " 'TULUA',\n",
       " 'TURBACO',\n",
       " 'URIBE',\n",
       " 'URRAO',\n",
       " 'VALDIVIA',\n",
       " 'VALLE DEL GUAMUEZ',\n",
       " 'VALLEDUPAR',\n",
       " 'VENECIA',\n",
       " 'VILLA DEL ROSARIO',\n",
       " 'VILLAGARZON',\n",
       " 'VILLANUEVA',\n",
       " 'VILLAVICENCIO',\n",
       " 'YARUMAL',\n",
       " 'YONDO',\n",
       " 'ZONA BANANERA']"
      ]
     },
     "execution_count": 79,
     "metadata": {},
     "output_type": "execute_result"
    }
   ],
   "source": [
    "sorted(df_cleaned.MUNICIPIO.unique())"
   ]
  },
  {
   "cell_type": "code",
   "execution_count": 80,
   "id": "cc2fe83d",
   "metadata": {},
   "outputs": [
    {
     "data": {
      "text/plain": [
       "(301, 7)"
      ]
     },
     "execution_count": 80,
     "metadata": {},
     "output_type": "execute_result"
    }
   ],
   "source": [
    "# Muestra la forma final del DataFrame limpio: número de filas y columnas tras la depuración\n",
    "df_cleaned.shape"
   ]
  },
  {
   "cell_type": "code",
   "execution_count": 81,
   "id": "5d7cb605",
   "metadata": {},
   "outputs": [
    {
     "name": "stdout",
     "output_type": "stream",
     "text": [
      "\n",
      "El archivo CSV ha sido guardado.\n"
     ]
    }
   ],
   "source": [
    "# Guardar el resultado en un nuevo archivo si lo deseas\n",
    "\n",
    "df_cleaned.to_csv(\"Masacres_en_Colombia_clean.csv\", index=False)\n",
    "\n",
    "print(\"\\nEl archivo CSV ha sido guardado.\")"
   ]
  }
 ],
 "metadata": {
  "language_info": {
   "name": "python"
  }
 },
 "nbformat": 4,
 "nbformat_minor": 5
}
